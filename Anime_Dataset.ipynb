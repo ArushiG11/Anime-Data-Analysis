{
  "nbformat": 4,
  "nbformat_minor": 0,
  "metadata": {
    "colab": {
      "provenance": [],
      "authorship_tag": "ABX9TyMZl2U+C5l9oX1OBxbe7M8O",
      "include_colab_link": true
    },
    "kernelspec": {
      "name": "python3",
      "display_name": "Python 3"
    },
    "language_info": {
      "name": "python"
    }
  },
  "cells": [
    {
      "cell_type": "markdown",
      "metadata": {
        "id": "view-in-github",
        "colab_type": "text"
      },
      "source": [
        "<a href=\"https://colab.research.google.com/github/ArushiG11/Anime-Data-Analysis/blob/main/Anime_Dataset.ipynb\" target=\"_parent\"><img src=\"https://colab.research.google.com/assets/colab-badge.svg\" alt=\"Open In Colab\"/></a>"
      ]
    },
    {
      "cell_type": "code",
      "execution_count": 17,
      "metadata": {
        "id": "sPZjYO2VpowH"
      },
      "outputs": [],
      "source": [
        "from bs4 import BeautifulSoup\n",
        "import requests\n",
        "import pandas as pd"
      ]
    },
    {
      "cell_type": "markdown",
      "source": [
        "My Anime List : https://myanimelist.net/topanime.php"
      ],
      "metadata": {
        "id": "lsfG4qNr-Jcn"
      }
    },
    {
      "cell_type": "code",
      "source": [
        "limit = 0\n",
        "\n",
        "while(limit<500):\n",
        "  urls_mal = f'https://myanimelist.net/topanime.php?limit={limit}'\n",
        "  page = requests.get(urls_mal)\n",
        "  soup = BeautifulSoup(page.text,'html')\n",
        "\n",
        "  table = soup.find('table', class_ = 'top-ranking-table')\n",
        "\n",
        "  if limit == 0:\n",
        "    table_titles = table.find_all('tr')[0]\n",
        "    table_titles = table_titles.find_all('td')\n",
        "    table_titles= [title.text.strip() for title in table_titles]\n",
        "\n",
        "    df = pd.DataFrame(columns = table_titles)\n",
        "\n",
        "  table_data = table.find_all('tr')[1:]\n",
        "\n",
        "  for row in table_data:\n",
        "    row_data = row.find_all('td')\n",
        "    row_data = [data.text.strip() for data in row_data]\n",
        "    length = len(df)\n",
        "    df.loc[length] = row_data\n",
        "\n",
        "  limit += 50\n",
        "\n",
        "df = df[[\"Rank\", \"Title\", \"Score\"]]\n",
        "df.to_csv('myanimelist.csv', index= False)"
      ],
      "metadata": {
        "id": "u5ZizGW50Mds"
      },
      "execution_count": 60,
      "outputs": []
    },
    {
      "cell_type": "markdown",
      "source": [
        "aniDB : https://anidb.net/anime/?h=1&noalias=1&orderby.name=1.1&orderby.rating=0.2&page=1&view=list"
      ],
      "metadata": {
        "id": "Hw3EaG5dA9b2"
      }
    },
    {
      "cell_type": "code",
      "source": [
        "urls_anidb = ['https://anidb.net/anime/?h=1&noalias=1&orderby.name=1.1&orderby.rating=0.2&view=list']\n",
        "for p in range(1,410):\n",
        "    urls_anidb.append(\"https://anidb.net/anime/?h=1&noalias=1&orderby.name=0.1&page=\"+str(p)+\"&view=list\")\n",
        "\n",
        "# behave like browser to avoid restrictions\n",
        "# mimic te browser request\n",
        "header = {\n",
        "  \"User-Agent\": \"Mozilla/5.0 (X11; Linux x86_64) AppleWebKit/537.36 (KHTML, like Gecko) Chrome/50.0.2661.75 Safari/537.36\",\n",
        "  \"X-Requested-With\": \"XMLHttpRequest\"\n",
        "}\n",
        "\n"
      ],
      "metadata": {
        "id": "TkzWibCS_d0i"
      },
      "execution_count": 66,
      "outputs": []
    },
    {
      "cell_type": "code",
      "source": [
        "dfs_anidb= []"
      ],
      "metadata": {
        "id": "DHgL6o8DYh9Y"
      },
      "execution_count": 67,
      "outputs": []
    },
    {
      "cell_type": "code",
      "source": [
        "r_anidb = requests.get(urls_anidb[0], headers=header)"
      ],
      "metadata": {
        "id": "nzxRWlkKYkij"
      },
      "execution_count": 69,
      "outputs": []
    },
    {
      "cell_type": "code",
      "source": [
        "soup = BeautifulSoup(r_anidb.text,'html')"
      ],
      "metadata": {
        "id": "lri440MbYs0c"
      },
      "execution_count": 71,
      "outputs": []
    },
    {
      "cell_type": "code",
      "source": [
        "soup"
      ],
      "metadata": {
        "colab": {
          "base_uri": "https://localhost:8080/"
        },
        "id": "JsV_xt_6Y_Xe",
        "outputId": "ddf8c625-32e5-4f22-e581-79a0b68534da"
      },
      "execution_count": 72,
      "outputs": [
        {
          "output_type": "execute_result",
          "data": {
            "text/plain": [
              "<!DOCTYPE html>\n",
              "<html lang=\"en\" prefix=\"og: http://ogp.me/ns#\">\n",
              "<head>\n",
              "<meta content=\"text/html; charset=utf-8\" http-equiv=\"content-type\"/>\n",
              "<meta content=\"width=device-width, initial-scale=1\" name=\"viewport\"/>\n",
              "<title>AniDB AntiLeech - AniDB</title>\n",
              "<meta content=\"Looking for information about AniDB AntiLeech? AniDB is the right place for you. AniDB is a not-for-profit anime database providing you with all infor...\" name=\"description\" property=\"og:description\"/>\n",
              "<meta content=\"index, follow\" name=\"robots\"/>\n",
              "<link href=\"https://cdn-us.anidb.net/css/anidbstyle3/anidbstyle3.css?v=2023-11-02T17-27-31\" rel=\"stylesheet\" title=\"Style\" type=\"text/css\"/>\n",
              "<link href=\"https://cdn-us.anidb.net/css/assets/images/touch/apple-touch-icon.png?v=2023-11-02T17-27-31\" rel=\"apple-touch-icon\" sizes=\"180x180\"/>\n",
              "<link href=\"https://cdn-us.anidb.net/css/assets/images/touch/favicon-32x32.png?v=2023-11-02T17-27-31\" rel=\"icon\" sizes=\"32x32\" type=\"image/png\"/>\n",
              "<link href=\"https://cdn-us.anidb.net/css/assets/images/touch/favicon-16x16.png?v=2023-11-02T17-27-31\" rel=\"icon\" sizes=\"16x16\" type=\"image/png\"/>\n",
              "<link href=\"https://cdn-us.anidb.net/css/assets/images/touch/site.webmanifest?v=2023-11-02T17-27-31\" rel=\"manifest\"/>\n",
              "<link color=\"#e18e3c\" href=\"https://cdn-us.anidb.net/css/assets/images/touch/safari-pinned-tab.svg?v=2023-11-02T17-27-31\" rel=\"mask-icon\"/>\n",
              "<link href=\"https://cdn-us.anidb.net/css/assets/images/touch/favicon.ico?v=2023-11-02T17-27-31\" rel=\"shortcut icon\"/>\n",
              "<link href=\"https://anidb.net/anime/?h=1&amp;noalias=1&amp;orderby.name=1.1&amp;orderby.rating=0.2&amp;view=list\" property=\"og:url\" rel=\"canonical\"/>\n",
              "<link href=\"https://anidb.net/opensearch.xml\" rel=\"search\" title=\"AniDB\" type=\"application/opensearchdescription+xml\"/>\n",
              "<link href=\"https://anidb.net/feeds/files.atom\" rel=\"alternate\" title=\"AniDB Latest Files\" type=\"application/atom+xml\"/>\n",
              "<link href=\"https://anidb.net/feeds/news.atom\" rel=\"alternate\" title=\"AniDB Latest News\" type=\"application/atom+xml\"/>\n",
              "<meta content=\"\" data-anidb-url=\"https://anidb.net/perl-bin/animedb.pl?show=animelist&amp;h=1&amp;noalias=1&amp;orderby.name=1.1&amp;orderby.rating=0.2&amp;view=list\" id=\"anidb-url\" name=\"anidb-url\"/>\n",
              "<meta content=\"AniDB\" name=\"apple-mobile-web-app-title\"/>\n",
              "<meta content=\"AniDB\" name=\"application-name\"/>\n",
              "<meta content=\"#da532c\" name=\"msapplication-TileColor\"/>\n",
              "<meta content=\"https://cdn-us.anidb.net/css/assets/images/touch/browserconfig.xml?v=2023-11-02T17-27-31\" name=\"msapplication-config\"/>\n",
              "<meta content=\"#ffffff\" name=\"theme-color\"/>\n",
              "<meta content=\"summary\" name=\"twitter:card\"/>\n",
              "<meta content=\"@anidbstatus\" name=\"twitter:site\"/>\n",
              "<meta content=\"@anidbstatus\" name=\"twitter:creator\"/>\n",
              "<meta content=\"AniDB AntiLeech - AniDB\" property=\"og:title\"/>\n",
              "<script defer=\"\" src=\"https://cdn-us.anidb.net/js/libs/js.cookie.min.js?v=2022-12-03T23-47-26\"></script>\n",
              "<script defer=\"\" src=\"https://cdn-us.anidb.net/js/libs/jquery.min.js?v=2022-12-03T23-47-26\"></script>\n",
              "<script defer=\"\" src=\"https://cdn-us.anidb.net/js/libs/jquery.form.min.js?v=2022-12-03T23-47-26\"></script>\n",
              "<script defer=\"\" src=\"https://cdn-us.anidb.net/js/libs/jquery.fancybox.min.js?v=2022-12-03T23-47-26\"></script>\n",
              "<script defer=\"\" src=\"https://cdn-us.anidb.net/js/libs/jquery.sortable.min.js?v=2022-12-03T23-47-26\"></script>\n",
              "<script defer=\"\" src=\"https://cdn-us.anidb.net/js/libs/jquery.tablesorter.min.js?v=2022-12-03T23-47-26\"></script>\n",
              "<script defer=\"\" src=\"https://cdn-us.anidb.net/js/libs/jquery.toastr.min.js?v=2022-12-03T23-47-26\"></script>\n",
              "<script defer=\"\" src=\"https://cdn-us.anidb.net/js/libs/jquery.uploadfile.min.js?v=2022-12-03T23-47-26\"></script>\n",
              "<script defer=\"\" src=\"https://cdn-us.anidb.net/js/libs/jquery.wysibb.min.js?v=2022-12-03T23-47-26\"></script>\n",
              "<script defer=\"\" src=\"https://cdn-us.anidb.net/js/libs/jqueryui.position.min.js?v=2022-12-03T23-47-26\"></script>\n",
              "<script defer=\"\" src=\"https://cdn-us.anidb.net/js/libs/select2.min.js?v=2022-12-03T23-47-26\"></script>\n",
              "<script defer=\"\" src=\"https://cdn-us.anidb.net/js/libs/highcharts.min.js?v=2022-12-03T23-47-26\"></script>\n",
              "<script defer=\"\" src=\"https://cdn-us.anidb.net/js/legacy/legacy.min.js?v=2022-12-03T23-47-26\"></script>\n",
              "<script defer=\"\" src=\"https://cdn-us.anidb.net/js/WordSuggest.min.js?v=2022-12-03T23-47-26\"></script>\n",
              "<script defer=\"\" src=\"https://cdn-us.anidb.net/js/global.min.js?v=2022-12-03T23-47-26\"></script>\n",
              "</head>\n",
              "<body class=\"animelist\" id=\"anidb\">\n",
              "<div class=\"hint\" id=\"layout-hint\">\n",
              "<span class=\"head\">HINT:</span>\n",
              "<span class=\"msg\">Don't like the way AniDB looks? There are a number of alternative styles available for registered users.</span>\n",
              "</div>\n",
              "<div class=\"animelist_nav\" id=\"layout-nav\">\n",
              "<ul class=\"animelist_menu\" id=\"layout-menu\">\n",
              "<li class=\"sub-menu main\" title=\"Menu\">\n",
              "<span class=\"tab\">Menu</span>\n",
              "<ul id=\"menu-main\">\n",
              "<li class=\"main\"><a href=\"/\" title=\"Main\"><span class=\"text\">main</span></a></li>\n",
              "<li class=\"search\"><a href=\"/search/anime\" title=\"Advanced search\"><span class=\"text\">search</span></a></li>\n",
              "<li class=\"calendar\"><a href=\"/anime/season\" title=\"Anime calendar\"><span class=\"text\">season chart</span></a></li>\n",
              "<li class=\"schedule\"><a href=\"/anime/schedule\" title=\"Episode schedule\"><span class=\"text\">schedule</span></a></li>\n",
              "<li class=\"random\"><a href=\"/anime/random\" title=\"Random anime\"><span class=\"text\">random</span></a></li>\n",
              "</ul>\n",
              "<span></span>\n",
              "</li>\n",
              "<li class=\"sub-menu listings\" title=\"Content\">\n",
              "<span class=\"tab\">Content</span>\n",
              "<ul id=\"menu-lists\">\n",
              "<li class=\"latest\"><a href=\"/latest\" title=\"Latest additions\"><span class=\"text\">latest</span></a></li>\n",
              "<li class=\"anime\"><a href=\"/anime\" title=\"Anime list\"><span class=\"text\">anime</span></a></li>\n",
              "<li class=\"character\"><a href=\"/character\" title=\"Character list\"><span class=\"text\">characters</span></a></li>\n",
              "<li class=\"club\"><a href=\"/club\" title=\"Club list\"><span class=\"text\">clubs</span></a></li>\n",
              "<li class=\"creator\"><a href=\"/creator\" title=\"Creator list\"><span class=\"text\">creators</span></a></li>\n",
              "<li class=\"collection\"><a href=\"/collection\" title=\"Collection list\"><span class=\"text\">collections</span></a></li>\n",
              "<li class=\"group\"><a href=\"/group\" title=\"Group list\"><span class=\"text\">groups</span></a></li>\n",
              "<li class=\"song\"><a href=\"/song\" title=\"Song list\"><span class=\"text\">songs</span></a></li>\n",
              "<li class=\"tags\"><a href=\"/tag\" title=\"Tag list\"><span class=\"text\">tags</span></a></li>\n",
              "</ul>\n",
              "<span></span>\n",
              "</li>\n",
              "<li class=\"sub-menu support\" title=\"Support\">\n",
              "<span class=\"tab\">Support</span>\n",
              "<ul id=\"menu-support\">\n",
              "<li class=\"forum\"><a href=\"/forum\" title=\"Help @ forum\"><span class=\"text\">forum</span></a></li>\n",
              "<li class=\"help\"><a data-anidb-rel=\"anidb::wiki\" href=\"https://wiki.anidb.net/Main_Page\" title=\"Help @ wiki\"><span>help</span></a></li>\n",
              "<li class=\"irc\"><a href=\"/irc\" title=\"Help @ IRC\"><span class=\"text\">IRC</span></a></li>\n",
              "<li class=\"report\"><a data-anidb-rel=\"anidb::wiki\" href=\"https://wiki.anidb.net/Report_mistake\" title=\"Report a mistake\"><span>report error</span></a></li>\n",
              "<li class=\"software\"><a href=\"/software\" title=\"Software to interact with AniDB\"><span class=\"text\">software</span></a></li>\n",
              "<li class=\"staff\"><a href=\"/admin/staff\" title=\"AniDB staff\"><span class=\"text\">staff</span></a></li>\n",
              "</ul>\n",
              "<span></span>\n",
              "</li>\n",
              "<li class=\"sub-menu terms\" title=\"Terms &amp; Licenses\">\n",
              "<span class=\"tab\">Terms &amp; Licenses</span>\n",
              "<ul id=\"menu-terms\">\n",
              "<li class=\"donate\"><a href=\"/donation\" title=\"Accounting, Patreon\"><span class=\"text\">donate</span></a></li>\n",
              "<li class=\"credits\"><a data-anidb-rel=\"anidb::wiki\" href=\"https://wiki.anidb.net/Credits\" title=\"Credits, Software Licenses\"><span>credits</span></a></li>\n",
              "<li class=\"policies\"><a href=\"/policy\" title=\"Terms of Service, Privacy Policy, Licenses\"><span class=\"text\">policies</span></a></li>\n",
              "</ul>\n",
              "<span></span>\n",
              "</li>\n",
              "<li class=\"sub-menu login\" title=\"Register or login\">\n",
              "<span class=\"tab\">Register or login</span>\n",
              "<form action=\"/perl-bin/animedb.pl\" method=\"post\">\n",
              "<div>\n",
              "<fieldset><input name=\"view\" type=\"hidden\" value=\"list\"/><input name=\"noalias\" type=\"hidden\" value=\"1\"/><input name=\"orderby.rating\" type=\"hidden\" value=\"0.2\"/><input name=\"h\" type=\"hidden\" value=\"1\"/><input name=\"show\" type=\"hidden\" value=\"animelist\"/><input name=\"orderby.name\" type=\"hidden\" value=\"1.1\"/>\n",
              "</fieldset>\n",
              "<ul id=\"menu-login\">\n",
              "<li class=\"user-login\" id=\"user-login\"><a href=\"/user/login\" title=\"Show login page\"><span class=\"text\">login</span></a></li>\n",
              "<li class=\"user-signup\" id=\"user-signup\"><a href=\"/user/register\" title=\"Register now\"><span class=\"text\">register</span></a></li>\n",
              "<li class=\"user-xname\" id=\"user-xname\" title=\"User name\"><span><input class=\"text\" maxlength=\"16\" name=\"xuser\" type=\"text\" value=\"\"/></span></li>\n",
              "<li class=\"user-xpass\" id=\"user-xpass\" title=\"Password\"><span><input class=\"text\" maxlength=\"64\" name=\"xpass\" type=\"password\"/></span></li>\n",
              "<li class=\"user-xkeep\" id=\"user-xkeep\" title=\"Remember login data\"><span><label><input checked=\"checked\" name=\"xdoautologin\" type=\"checkbox\"/> <span>stay logged in</span></label></span></li>\n",
              "<li class=\"user-xauth\" id=\"user-xauth\" title=\"Login\"><span><button class=\"login\" name=\"do.auth\" type=\"submit\" value=\"login\"><span>Login</span></button></span></li>\n",
              "</ul>\n",
              "<span></span>\n",
              "</div>\n",
              "</form>\n",
              "</li>\n",
              "</ul>\n",
              "<div class=\"menu_hr\"></div>\n",
              "<div class=\"animelist_search\" id=\"layout-search\">\n",
              "<div class=\"search container\" itemscope=\"\" itemtype=\"https://schema.org/WebSite\">\n",
              "<span class=\"hide\" itemprop=\"name\">AniDB</span>\n",
              "<a class=\"hide\" href=\"https://anidb.net\" itemprop=\"url\" rel=\"canonical\"></a>\n",
              "<form action=\"/perl-bin/animedb.pl\" itemprop=\"potentialAction\" itemscope=\"\" itemtype=\"https://schema.org/SearchAction\" method=\"get\">\n",
              "<div content=\"https://anidb.net/search/anime/?adb.search={adb.search}&amp;do.search=1\" itemprop=\"target\">\n",
              "<input accesskey=\"s\" class=\"text\" id=\"layout-searchbox\" itemprop=\"query-input\" name=\"adb.search\" type=\"text\" value=\"\"/>\n",
              "<select id=\"layout-searchselect\" name=\"show\" size=\"1\"><option value=\"search\">all</option><option selected=\"selected\" value=\"animelist\">anime</option><option value=\"characterlist\">character</option><option value=\"clublist\">club</option><option value=\"collectionlist\">collections</option><option value=\"creatorlist\">creator</option><option value=\"eplist\">episodes</option><option value=\"grouplist\">group</option><option value=\"mylist\">mylist</option><option value=\"songlist\">songs</option><option value=\"taglist\">tags</option><option value=\"userlist\">user</option>\n",
              "</select>\n",
              "<button class=\"submit search\" name=\"do.search\" type=\"submit\" value=\"1\">Search</button>\n",
              "<fieldset><input name=\"cleanurl\" type=\"hidden\" value=\"1\"/></fieldset>\n",
              "</div>\n",
              "</form>\n",
              "<form action=\"/perl-bin/animedb.pl\" class=\"random\" method=\"get\">\n",
              "<fieldset>\n",
              "<input name=\"do.random\" type=\"hidden\" value=\"1\"/>\n",
              "<input name=\"show\" type=\"hidden\" value=\"anime\"/>\n",
              "</fieldset>\n",
              "<button class=\"submit random\" type=\"submit\" value=\"lucky\">I'm Feeling Lucky</button>\n",
              "</form>\n",
              "<a class=\"advsearch\" href=\"/search/anime\" title=\"advsearch\"><span class=\"text\">advanced search</span></a>\n",
              "</div>\n",
              "</div>\n",
              "</div>\n",
              "<div id=\"layout-content\">\n",
              "<div id=\"layout-main\">\n",
              "<h1 class=\"animelist\">AniDB AntiLeech</h1>\n",
              "<div class=\"g_content animelist_all\">\n",
              "<a href=\"/perl-bin/animedb.pl?show=jebhgkungncqukuzzdiu\" style=\"display:none;\">Download (Do <b>NOT</b> click!)</a>\n",
              "<div class=\"g_msg g_bubble note\">\n",
              "<h3>NOTE</h3>\n",
              "<div class=\"container\">We don't like robots. So prove to us that you are human and you may continue using the website.<br/>If you are getting banned repeatively you are probably doing something wrong. In that case join the <a href=\"https://anidb.net/irc\">AniDB IRC channel</a> and contact a moderator.\n",
              "\t\t</div>\n",
              "</div>\n",
              "<div class=\"g_section unban\" id=\"captcha\">\n",
              "<form action=\"/perl-bin/animedb.pl\" method=\"post\">\n",
              "<fieldset>\n",
              "<input name=\"show\" type=\"hidden\" value=\"main\"/>\n",
              "<input name=\"unban.session\" type=\"hidden\" value=\"1722204469\"/>\n",
              "</fieldset>\n",
              "<div class=\"g-recaptcha\" data-sitekey=\"6LcC2xcTAAAAAJR68rjwmWPaAQthH0FJGXcR9r1Q\"></div>\n",
              "<button class=\"unban\" name=\"do.unban.me\" type=\"submit\" value=\"1\">Please unban me :(</button>\n",
              "</form>\n",
              "</div>\n",
              "</div><!--g_content-->\n",
              "<div class=\"g_end\"></div>\n",
              "</div><!--layout-main-->\n",
              "</div><!--layout-content-->\n",
              "<div id=\"layout-footer\">\n",
              "<p><a href=\"https://anidb.net\" property=\"cc:attributionName\">AniDB</a> is licensed under a <a href=\"https://creativecommons.org/licenses/by-nc-sa/4.0/\" rel=\"license\">Creative Commons Attribution-NonCommercial-ShareAlike 4.0 International License</a>.</p>\n",
              "<p>v 2022-04, © 2002-2022 by AniDB; all rights reserved. [0s] - <span title=\"generated at\">28.07.2024 22:07:49</span></p>\n",
              "<div itemscope=\"\" itemtype=\"https://schema.org/Organization\">\n",
              "<a class=\"hide\" href=\"https://anidb.net\" itemprop=\"url\">Home</a>\n",
              "<img alt=\"AniDB\" class=\"hide\" itemprop=\"logo\" loading=\"lazy\" src=\"https://cdn-us.anidb.net/css/assets/images/touch/android-chrome-512x512.png\"/>\n",
              "<span class=\"hide\" itemprop=\"name\">AniDB</span>\n",
              "<div class=\"links\">\n",
              "<a class=\"i_icon brand i_resource_twitter\" data-anidb-rel=\"anidb::extern\" href=\"https://twitter.com/AniDBStatus\" itemprop=\"sameAs\" title=\"Stay up2date with AniDB on Twitter!\"><span class=\"text\">Twitter</span></a>\n",
              "<a class=\"i_icon brand i_resource_patreon\" data-anidb-rel=\"anidb::extern\" href=\"https://www.patreon.com/AniDB\" itemprop=\"sameAs\" title=\"Become a patron for AniDB!\"><span class=\"text\">Become a patron!</span></a>\n",
              "</div>\n",
              "</div>\n",
              "<a href=\"/perl-bin/animedb.pl?show=jebhgkungncqukuzzdiu\" style=\"display:none;\">Download (Do <b>NOT</b> click!)</a>\n",
              "</div>\n",
              "</body>\n",
              "</html>"
            ]
          },
          "metadata": {},
          "execution_count": 72
        }
      ]
    },
    {
      "cell_type": "code",
      "source": [
        "for idx,i in enumerate(urls_anidb):\n",
        "    r_anidb = requests.get(i, headers=header)\n",
        "    dfs_anidb.append(pd.read_html(r_anidb.text))\n",
        "    print(\"Anidb page is scanned: \" + str(idx+1) + \"/\" + str(len(urls_anidb)), end='\\r')"
      ],
      "metadata": {
        "id": "jjyHGLN4W0E6"
      },
      "execution_count": null,
      "outputs": []
    },
    {
      "cell_type": "code",
      "source": [
        "import requests\n",
        "import pandas as pd\n",
        "\n",
        "# Hypothetical URL of an internal API endpoint discovered through network inspection\n",
        "api_url_template = \"http://api.anidb.net:9001/httpapi?client={str}&clientver={int}&protover=1\"\n",
        "\n",
        "# Headers to mimic a browser request\n",
        "header = {\n",
        "    \"User-Agent\": \"Mozilla/5.0 (X11; Linux x86_64) AppleWebKit/537.36 (KHTML, like Gecko) Chrome/50.0.2661.75 Safari/537.36\",\n",
        "    \"X-Requested-With\": \"XMLHttpRequest\"\n",
        "}\n",
        "\n",
        "# Initialize list for DataFrames\n",
        "dfs_anidb = []\n",
        "\n",
        "# Fetch data from the internal API\n",
        "for page in range(1, 411):\n",
        "    api_url = api_url_template.format(page=page)\n",
        "    response = requests.get(api_url, headers=header)\n",
        "    data = response.json()  # Assuming the API returns JSON data\n",
        "\n",
        "    # Convert the JSON data to a DataFrame and append to the list\n",
        "    df = pd.DataFrame(data['results'])  # Adjust based on actual JSON structure\n",
        "    dfs_anidb.append(df)\n",
        "\n",
        "    print(f\"AniDB API page {page}/410 scanned\", end='\\r')\n",
        "\n",
        "print(\"\")\n",
        "\n",
        "# Combine all DataFrames into a single DataFrame\n",
        "all_data_anidb = pd.concat(dfs_anidb, ignore_index=True)\n",
        "\n",
        "# Now all_data_anidb contains the combined data from all pages\n"
      ],
      "metadata": {
        "colab": {
          "base_uri": "https://localhost:8080/",
          "height": 216
        },
        "id": "ova4iLW3YPOp",
        "outputId": "16c94f31-6b27-4705-c202-49c17841aa35"
      },
      "execution_count": 75,
      "outputs": [
        {
          "output_type": "error",
          "ename": "KeyError",
          "evalue": "'str'",
          "traceback": [
            "\u001b[0;31m---------------------------------------------------------------------------\u001b[0m",
            "\u001b[0;31mKeyError\u001b[0m                                  Traceback (most recent call last)",
            "\u001b[0;32m<ipython-input-75-0cd3a26e804c>\u001b[0m in \u001b[0;36m<cell line: 17>\u001b[0;34m()\u001b[0m\n\u001b[1;32m     16\u001b[0m \u001b[0;31m# Fetch data from the internal API\u001b[0m\u001b[0;34m\u001b[0m\u001b[0;34m\u001b[0m\u001b[0m\n\u001b[1;32m     17\u001b[0m \u001b[0;32mfor\u001b[0m \u001b[0mpage\u001b[0m \u001b[0;32min\u001b[0m \u001b[0mrange\u001b[0m\u001b[0;34m(\u001b[0m\u001b[0;36m1\u001b[0m\u001b[0;34m,\u001b[0m \u001b[0;36m411\u001b[0m\u001b[0;34m)\u001b[0m\u001b[0;34m:\u001b[0m\u001b[0;34m\u001b[0m\u001b[0;34m\u001b[0m\u001b[0m\n\u001b[0;32m---> 18\u001b[0;31m     \u001b[0mapi_url\u001b[0m \u001b[0;34m=\u001b[0m \u001b[0mapi_url_template\u001b[0m\u001b[0;34m.\u001b[0m\u001b[0mformat\u001b[0m\u001b[0;34m(\u001b[0m\u001b[0mpage\u001b[0m\u001b[0;34m=\u001b[0m\u001b[0mpage\u001b[0m\u001b[0;34m)\u001b[0m\u001b[0;34m\u001b[0m\u001b[0;34m\u001b[0m\u001b[0m\n\u001b[0m\u001b[1;32m     19\u001b[0m     \u001b[0mresponse\u001b[0m \u001b[0;34m=\u001b[0m \u001b[0mrequests\u001b[0m\u001b[0;34m.\u001b[0m\u001b[0mget\u001b[0m\u001b[0;34m(\u001b[0m\u001b[0mapi_url\u001b[0m\u001b[0;34m,\u001b[0m \u001b[0mheaders\u001b[0m\u001b[0;34m=\u001b[0m\u001b[0mheader\u001b[0m\u001b[0;34m)\u001b[0m\u001b[0;34m\u001b[0m\u001b[0;34m\u001b[0m\u001b[0m\n\u001b[1;32m     20\u001b[0m     \u001b[0mdata\u001b[0m \u001b[0;34m=\u001b[0m \u001b[0mresponse\u001b[0m\u001b[0;34m.\u001b[0m\u001b[0mjson\u001b[0m\u001b[0;34m(\u001b[0m\u001b[0;34m)\u001b[0m  \u001b[0;31m# Assuming the API returns JSON data\u001b[0m\u001b[0;34m\u001b[0m\u001b[0;34m\u001b[0m\u001b[0m\n",
            "\u001b[0;31mKeyError\u001b[0m: 'str'"
          ]
        }
      ]
    },
    {
      "cell_type": "code",
      "source": [],
      "metadata": {
        "id": "xiY6bnYGbHAo"
      },
      "execution_count": null,
      "outputs": []
    }
  ]
}